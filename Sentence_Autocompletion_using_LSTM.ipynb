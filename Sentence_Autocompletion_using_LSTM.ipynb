{
  "cells": [
    {
      "cell_type": "markdown",
      "metadata": {
        "id": "r7Te9GVfVCw7"
      },
      "source": [
        "# LSTM Implementation"
      ]
    },
    {
      "cell_type": "markdown",
      "metadata": {
        "id": "nINj1HytVCw8"
      },
      "source": [
        "# **Text Preprocessing**"
      ]
    },
    {
      "cell_type": "code",
      "execution_count": 1,
      "metadata": {
        "id": "2R_9N7bSVCw9"
      },
      "outputs": [],
      "source": [
        "import os\n",
        "import pandas as pd\n",
        "import numpy as np\n",
        "import tensorflow as tf\n",
        "from tensorflow.keras.preprocessing.sequence import pad_sequences\n",
        "from tensorflow.keras.layers import Embedding, LSTM, Dense, Bidirectional\n",
        "from tensorflow.keras.preprocessing.text import Tokenizer\n",
        "from tensorflow.keras.models import Sequential\n",
        "from tensorflow.keras.optimizers import Adam\n",
        "import nltk\n",
        "import re"
      ]
    },
    {
      "cell_type": "code",
      "source": [
        "import os\n",
        "from google.colab import userdata\n",
        "\n",
        "os.environ['KAGGLE_USERNAME'] = userdata.get('KAGGLE_USERNAME') # username from the json file\n",
        "os.environ['KAGGLE_KEY'] = userdata.get('KAGGLE_KEY') # key from the json file\n",
        "!kaggle datasets download -d noorsaeed/holmes # api copied from kaggle\n"
      ],
      "metadata": {
        "id": "dmXV0pBhXHRM"
      },
      "execution_count": null,
      "outputs": []
    },
    {
      "cell_type": "code",
      "source": [
        "!unzip holmes.zip"
      ],
      "metadata": {
        "id": "LXsQYAl9ZQyO",
        "outputId": "9d6f0f6d-9baa-4522-ba04-8a34ef495a54",
        "colab": {
          "base_uri": "https://localhost:8080/"
        }
      },
      "execution_count": 18,
      "outputs": [
        {
          "output_type": "stream",
          "name": "stdout",
          "text": [
            "Archive:  holmes.zip\n",
            "replace holmes.txt? [y]es, [n]o, [A]ll, [N]one, [r]ename: A\n",
            "  inflating: holmes.txt              \n"
          ]
        }
      ]
    },
    {
      "cell_type": "code",
      "execution_count": 19,
      "metadata": {
        "id": "XrLlkyONVCw-"
      },
      "outputs": [],
      "source": [
        "# Specify the filename\n",
        "input_file = './holmes.txt'\n",
        "\n",
        "# Read the contents of the file\n",
        "with open(input_file, 'r', encoding='utf-8') as infile:\n",
        "    data = infile.read()"
      ]
    },
    {
      "cell_type": "code",
      "execution_count": 20,
      "metadata": {
        "id": "IXk02zE0VCw-",
        "outputId": "dc546651-6992-4de9-8fb9-4bcf396a46fc",
        "colab": {
          "base_uri": "https://localhost:8080/",
          "height": 36
        }
      },
      "outputs": [
        {
          "output_type": "execute_result",
          "data": {
            "text/plain": [
              "\"*Project Gutenberg's Etext of Tom Swift And His Submarine Boat*\\n\\n#4 in the Victor Appleton's Tom Swi\""
            ],
            "application/vnd.google.colaboratory.intrinsic+json": {
              "type": "string"
            }
          },
          "metadata": {},
          "execution_count": 20
        }
      ],
      "source": [
        "data[:100] # view first few characters"
      ]
    },
    {
      "cell_type": "code",
      "execution_count": 21,
      "metadata": {
        "id": "iGTA8JP_VCw_"
      },
      "outputs": [],
      "source": [
        "# Limit data to 500000 characters\n",
        "data = data[:500000]"
      ]
    },
    {
      "cell_type": "markdown",
      "metadata": {
        "id": "-md3jfQLVCw_"
      },
      "source": [
        "# Clean Text"
      ]
    },
    {
      "cell_type": "code",
      "execution_count": 22,
      "metadata": {
        "id": "qVs-LZhsVCw_"
      },
      "outputs": [],
      "source": [
        "# Function to remove emojis and special characters from text\n",
        "def remove_emojis_and_special_characters(text):\n",
        "    # Remove emojis\n",
        "    emoji_pattern = re.compile(\"[\"\n",
        "                               u\"\\U0001F600-\\U0001F64F\"  # emoticons\n",
        "                               u\"\\U0001F300-\\U0001F5FF\"  # symbols & pictographs\n",
        "                               u\"\\U0001F680-\\U0001F6FF\"  # transport & map symbols\n",
        "                               u\"\\U0001F700-\\U0001F77F\"  # alchemical symbols\n",
        "                               u\"\\U0001F780-\\U0001F7FF\"  # Geometric Shapes Extended\n",
        "                               u\"\\U0001F800-\\U0001F8FF\"  # Supplemental Arrows-C\n",
        "                               u\"\\U0001F900-\\U0001F9FF\"  # Supplemental Symbols and Pictographs\n",
        "                               u\"\\U0001FA00-\\U0001FA6F\"  # Chess Symbols\n",
        "                               u\"\\U0001FA70-\\U0001FAFF\"  # Symbols and Pictographs Extended-A\n",
        "                               u\"\\U00002702-\\U000027B0\"  # Dingbats\n",
        "                               u\"\\U000024C2-\\U0001F251\"\n",
        "                               \"]+\", flags=re.UNICODE)\n",
        "\n",
        "    # Remove special characters\n",
        "    text = re.sub(r'[^a-zA-Z0-9\\s]', '', text)\n",
        "\n",
        "    # Remove extra spaces\n",
        "    text = re.sub(' +', ' ', text)\n",
        "\n",
        "    return text"
      ]
    },
    {
      "cell_type": "code",
      "execution_count": 23,
      "metadata": {
        "id": "Y3RU6JuaVCw_"
      },
      "outputs": [],
      "source": [
        "# Preprocessing pipeline\n",
        "def preprocess_pipeline(data) -> 'list':\n",
        "    # Split by newline character\n",
        "    sentences = data.split('\\n')\n",
        "    for i in range(len(sentences)):\n",
        "        sentences[i] = remove_emojis_and_special_characters(sentences[i])\n",
        "    # Remove leading and trailing spaces\n",
        "    sentences = [s.strip() for s in sentences]\n",
        "    # Drop empty sentences\n",
        "    sentences = [s for s in sentences if len(s) > 0]\n",
        "    # Tokenization\n",
        "    tokenized = []\n",
        "    for sentence in sentences:\n",
        "        # Convert to lowercase\n",
        "        sentence = sentence.lower()\n",
        "        tokenized.append(sentence)\n",
        "    return tokenized\n",
        "\n",
        "# Tokenize sentences\n",
        "tokenized_sentences = preprocess_pipeline(data)"
      ]
    },
    {
      "cell_type": "code",
      "source": [
        "type(tokenized_sentences)"
      ],
      "metadata": {
        "id": "SPkDiTEdaa12",
        "outputId": "e986af35-bf53-4936-edca-2473e3ed3f8f",
        "colab": {
          "base_uri": "https://localhost:8080/"
        }
      },
      "execution_count": 28,
      "outputs": [
        {
          "output_type": "execute_result",
          "data": {
            "text/plain": [
              "list"
            ]
          },
          "metadata": {},
          "execution_count": 28
        }
      ]
    },
    {
      "cell_type": "code",
      "source": [
        "len(tokenized_sentences)"
      ],
      "metadata": {
        "id": "X-tKOF-1afpy",
        "outputId": "f5187731-d72b-4431-da63-2adaca1f6e75",
        "colab": {
          "base_uri": "https://localhost:8080/"
        }
      },
      "execution_count": 33,
      "outputs": [
        {
          "output_type": "execute_result",
          "data": {
            "text/plain": [
              "9282"
            ]
          },
          "metadata": {},
          "execution_count": 33
        }
      ]
    },
    {
      "cell_type": "code",
      "source": [
        "Tokenizer.encode(tokenized_sentences[1])"
      ],
      "metadata": {
        "id": "Mt_k1kapa0pc",
        "outputId": "7eddba55-fcc6-4cd2-c4d3-c6f51cd55059",
        "colab": {
          "base_uri": "https://localhost:8080/",
          "height": 146
        }
      },
      "execution_count": 32,
      "outputs": [
        {
          "output_type": "error",
          "ename": "AttributeError",
          "evalue": "type object 'Tokenizer' has no attribute 'encode'",
          "traceback": [
            "\u001b[0;31m---------------------------------------------------------------------------\u001b[0m",
            "\u001b[0;31mAttributeError\u001b[0m                            Traceback (most recent call last)",
            "\u001b[0;32m<ipython-input-32-255a4e1a10dd>\u001b[0m in \u001b[0;36m<cell line: 1>\u001b[0;34m()\u001b[0m\n\u001b[0;32m----> 1\u001b[0;31m \u001b[0mTokenizer\u001b[0m\u001b[0;34m.\u001b[0m\u001b[0mencode\u001b[0m\u001b[0;34m(\u001b[0m\u001b[0mtokenized_sentences\u001b[0m\u001b[0;34m[\u001b[0m\u001b[0;36m1\u001b[0m\u001b[0;34m]\u001b[0m\u001b[0;34m)\u001b[0m\u001b[0;34m\u001b[0m\u001b[0;34m\u001b[0m\u001b[0m\n\u001b[0m",
            "\u001b[0;31mAttributeError\u001b[0m: type object 'Tokenizer' has no attribute 'encode'"
          ]
        }
      ]
    },
    {
      "cell_type": "code",
      "execution_count": 34,
      "metadata": {
        "id": "gJqDzXISVCw_"
      },
      "outputs": [],
      "source": [
        "\"\"\"\n",
        "What is an OOV Token?\n",
        "An out-of-vocabulary (OOV) token is a special token used in natural language processing (NLP) tasks to represent words that\n",
        "are not present in the vocabulary of the model or tokenizer. When a word that is not in the vocabulary is encountered during\n",
        "tokenization or text processing, it is replaced with the OOV token.\n",
        "\n",
        "Why Use an OOV Token?\n",
        "Using an OOV token helps handle unseen or unknown words during the training or inference phase of an NLP model.\n",
        "Instead of encountering errors or issues when encountering unknown words, the model can gracefully handle them by\n",
        "representing them with the OOV token. This is particularly useful when working with real-world data where the vocabulary\n",
        "of the model may not cover all possible words.\n",
        "\"\"\"\n",
        "# Tokenize words\n",
        "tokenizer = Tokenizer(oov_token='<oov>')\n",
        "tokenizer.fit_on_texts(tokenized_sentences)\n",
        "total_words = len(tokenizer.word_index) + 1\n",
        "# tokenizer.word_counts\n",
        "# tokenizer.word_index\n",
        "\"\"\"\n",
        "n_gram example:\n",
        "[3, 15, 8, 7, 20, 12, 6]\n",
        "\n",
        "For the above sentece sentence, the code would generate the following n-gram sequences:\n",
        "\n",
        "[3, 15]\n",
        "[3, 15, 8]\n",
        "[3, 15, 8, 7]\n",
        "[3, 15, 8, 7, 20]\n",
        "[3, 15, 8, 7, 20, 12]\n",
        "[3, 15, 8, 7, 20, 12, 6]\n",
        "\"\"\"\n",
        "\n",
        "# Generate input sequences\n",
        "input_sequences = []\n",
        "for line in tokenized_sentences:\n",
        "    token_list = tokenizer.texts_to_sequences([line])[0]\n",
        "    for i in range(1, len(token_list)):\n",
        "        n_gram_sequence = token_list[:i + 1]\n",
        "        input_sequences.append(n_gram_sequence)\n",
        "\n",
        "# Pad sequences\n",
        "max_sequence_len = max([len(x) for x in input_sequences])\n",
        "input_sequences = np.array(pad_sequences(input_sequences, maxlen=max_sequence_len, padding='pre'))"
      ]
    },
    {
      "cell_type": "code",
      "execution_count": 35,
      "metadata": {
        "id": "ldFWdN02VCxA"
      },
      "outputs": [],
      "source": [
        "# Creates labels with input sequences\n",
        "X,labels = input_sequences[:,:-1],input_sequences[:,-1]\n",
        "ys = tf.keras.utils.to_categorical(labels, num_classes=total_words)"
      ]
    },
    {
      "cell_type": "code",
      "execution_count": 36,
      "metadata": {
        "execution": {
          "iopub.execute_input": "2024-04-11T05:32:13.168190Z",
          "iopub.status.busy": "2024-04-11T05:32:13.167751Z",
          "iopub.status.idle": "2024-04-11T05:32:20.041506Z",
          "shell.execute_reply": "2024-04-11T05:32:20.040383Z",
          "shell.execute_reply.started": "2024-04-11T05:32:13.168137Z"
        },
        "id": "jKFM0paZVCxA"
      },
      "outputs": [],
      "source": [
        "# Split data into training, validation, and test sets\n",
        "from sklearn.model_selection import train_test_split\n",
        "X_train_temp, X_val_test, y_train_temp, y_val_test = train_test_split(X, ys, test_size=0.2, random_state=42)\n",
        "X_val, X_test, y_val, y_test = train_test_split(X_val_test, y_val_test, test_size=0.5, random_state=42)"
      ]
    },
    {
      "cell_type": "code",
      "source": [
        "X_val[0], X_test[0]"
      ],
      "metadata": {
        "id": "tT-u2qCxbwS9",
        "outputId": "e8f9a33d-fdc7-4557-948a-21c355c8955b",
        "colab": {
          "base_uri": "https://localhost:8080/"
        }
      },
      "execution_count": 38,
      "outputs": [
        {
          "output_type": "execute_result",
          "data": {
            "text/plain": [
              "(array([  0,   0,   0,   0,   0,   0,   0,   0,   0,   0,   0,  14,   2,\n",
              "        694, 192], dtype=int32),\n",
              " array([  0,   0,   0,   0,  13,   3, 598,  89,  10,  33, 142,  70,  13,\n",
              "        118,  14], dtype=int32))"
            ]
          },
          "metadata": {},
          "execution_count": 38
        }
      ]
    },
    {
      "cell_type": "markdown",
      "metadata": {
        "id": "rOv4jAZgVCxA"
      },
      "source": [
        "# Train LSTM Model"
      ]
    },
    {
      "cell_type": "code",
      "execution_count": 39,
      "metadata": {
        "execution": {
          "iopub.execute_input": "2024-04-11T06:50:19.346868Z",
          "iopub.status.busy": "2024-04-11T06:50:19.345839Z",
          "iopub.status.idle": "2024-04-11T07:17:23.071736Z",
          "shell.execute_reply": "2024-04-11T07:17:23.070573Z",
          "shell.execute_reply.started": "2024-04-11T06:50:19.346830Z"
        },
        "id": "DV-e3JAaVCxA",
        "outputId": "819aefd9-b832-42b7-fdbc-0a2f4d567b26",
        "colab": {
          "base_uri": "https://localhost:8080/"
        }
      },
      "outputs": [
        {
          "output_type": "stream",
          "name": "stdout",
          "text": [
            "Epoch 1/50\n",
            "2002/2002 [==============================] - 37s 16ms/step - loss: 5.9576 - accuracy: 0.1172 - val_loss: 5.6407 - val_accuracy: 0.1411\n",
            "Epoch 2/50\n",
            "2002/2002 [==============================] - 19s 9ms/step - loss: 5.1545 - accuracy: 0.1582 - val_loss: 5.5847 - val_accuracy: 0.1511\n",
            "Epoch 3/50\n",
            "2002/2002 [==============================] - 19s 9ms/step - loss: 4.6979 - accuracy: 0.1779 - val_loss: 5.6990 - val_accuracy: 0.1541\n",
            "Epoch 4/50\n",
            "2002/2002 [==============================] - 21s 11ms/step - loss: 4.3336 - accuracy: 0.1962 - val_loss: 5.9148 - val_accuracy: 0.1534\n",
            "Epoch 5/50\n",
            "2002/2002 [==============================] - 20s 10ms/step - loss: 4.0740 - accuracy: 0.2121 - val_loss: 6.1306 - val_accuracy: 0.1545\n",
            "Epoch 6/50\n",
            "2002/2002 [==============================] - 17s 8ms/step - loss: 3.8934 - accuracy: 0.2266 - val_loss: 6.3664 - val_accuracy: 0.1530\n",
            "Epoch 7/50\n",
            "2002/2002 [==============================] - 17s 9ms/step - loss: 3.7529 - accuracy: 0.2381 - val_loss: 6.5966 - val_accuracy: 0.1498\n",
            "Epoch 8/50\n",
            "2002/2002 [==============================] - 17s 9ms/step - loss: 3.6497 - accuracy: 0.2482 - val_loss: 6.8368 - val_accuracy: 0.1509\n",
            "Epoch 9/50\n",
            "2002/2002 [==============================] - 18s 9ms/step - loss: 3.5985 - accuracy: 0.2524 - val_loss: 7.0416 - val_accuracy: 0.1493\n",
            "Epoch 10/50\n",
            "2002/2002 [==============================] - 19s 9ms/step - loss: 3.5516 - accuracy: 0.2587 - val_loss: 7.1653 - val_accuracy: 0.1505\n",
            "Epoch 11/50\n",
            "2002/2002 [==============================] - 19s 9ms/step - loss: 3.5155 - accuracy: 0.2624 - val_loss: 7.3011 - val_accuracy: 0.1476\n",
            "Epoch 12/50\n",
            "2002/2002 [==============================] - 18s 9ms/step - loss: 3.4682 - accuracy: 0.2681 - val_loss: 7.4778 - val_accuracy: 0.1441\n",
            "Epoch 13/50\n",
            "2002/2002 [==============================] - 18s 9ms/step - loss: 3.4301 - accuracy: 0.2713 - val_loss: 7.6830 - val_accuracy: 0.1480\n",
            "Epoch 14/50\n",
            "2002/2002 [==============================] - 17s 8ms/step - loss: 3.4025 - accuracy: 0.2753 - val_loss: 7.8107 - val_accuracy: 0.1454\n",
            "Epoch 15/50\n",
            "2002/2002 [==============================] - 17s 9ms/step - loss: 3.3728 - accuracy: 0.2782 - val_loss: 7.9696 - val_accuracy: 0.1500\n",
            "Epoch 16/50\n",
            "2002/2002 [==============================] - 18s 9ms/step - loss: 3.3653 - accuracy: 0.2797 - val_loss: 8.0937 - val_accuracy: 0.1426\n",
            "Epoch 17/50\n",
            "2002/2002 [==============================] - 17s 9ms/step - loss: 3.3404 - accuracy: 0.2822 - val_loss: 8.2548 - val_accuracy: 0.1444\n",
            "Epoch 18/50\n",
            "2002/2002 [==============================] - 17s 8ms/step - loss: 3.2898 - accuracy: 0.2877 - val_loss: 8.3344 - val_accuracy: 0.1468\n",
            "Epoch 19/50\n",
            "2002/2002 [==============================] - 17s 9ms/step - loss: 3.2581 - accuracy: 0.2931 - val_loss: 8.4334 - val_accuracy: 0.1433\n",
            "Epoch 20/50\n",
            "2002/2002 [==============================] - 19s 9ms/step - loss: 3.2809 - accuracy: 0.2903 - val_loss: 8.4981 - val_accuracy: 0.1453\n",
            "Epoch 21/50\n",
            "2002/2002 [==============================] - 17s 9ms/step - loss: 3.2846 - accuracy: 0.2892 - val_loss: 8.6293 - val_accuracy: 0.1450\n",
            "Epoch 22/50\n",
            "2002/2002 [==============================] - 18s 9ms/step - loss: 3.2880 - accuracy: 0.2902 - val_loss: 8.7756 - val_accuracy: 0.1438\n",
            "Epoch 23/50\n",
            "2002/2002 [==============================] - 18s 9ms/step - loss: 3.2611 - accuracy: 0.2925 - val_loss: 8.8434 - val_accuracy: 0.1439\n",
            "Epoch 24/50\n",
            "2002/2002 [==============================] - 18s 9ms/step - loss: 3.2438 - accuracy: 0.2977 - val_loss: 8.9603 - val_accuracy: 0.1398\n",
            "Epoch 25/50\n",
            "2002/2002 [==============================] - 19s 10ms/step - loss: 3.2615 - accuracy: 0.2940 - val_loss: 8.9461 - val_accuracy: 0.1520\n",
            "Epoch 26/50\n",
            "2002/2002 [==============================] - 18s 9ms/step - loss: 3.2456 - accuracy: 0.2966 - val_loss: 8.9434 - val_accuracy: 0.1450\n",
            "Epoch 27/50\n",
            "2002/2002 [==============================] - 18s 9ms/step - loss: 3.2139 - accuracy: 0.2998 - val_loss: 9.0232 - val_accuracy: 0.1435\n",
            "Epoch 28/50\n",
            "2002/2002 [==============================] - 17s 9ms/step - loss: 3.2239 - accuracy: 0.3004 - val_loss: 9.1365 - val_accuracy: 0.1419\n",
            "Epoch 29/50\n",
            "2002/2002 [==============================] - 17s 9ms/step - loss: 3.2054 - accuracy: 0.3031 - val_loss: 9.2243 - val_accuracy: 0.1429\n",
            "Epoch 30/50\n",
            "2002/2002 [==============================] - 20s 10ms/step - loss: 3.1932 - accuracy: 0.3041 - val_loss: 9.2812 - val_accuracy: 0.1406\n",
            "Epoch 31/50\n",
            "2002/2002 [==============================] - 18s 9ms/step - loss: 3.1983 - accuracy: 0.3051 - val_loss: 9.3480 - val_accuracy: 0.1404\n",
            "Epoch 32/50\n",
            "2002/2002 [==============================] - 18s 9ms/step - loss: 3.1943 - accuracy: 0.3086 - val_loss: 9.4811 - val_accuracy: 0.1410\n",
            "Epoch 33/50\n",
            "2002/2002 [==============================] - 19s 10ms/step - loss: 3.1660 - accuracy: 0.3088 - val_loss: 9.5818 - val_accuracy: 0.1373\n",
            "Epoch 34/50\n",
            "2002/2002 [==============================] - 17s 9ms/step - loss: 3.2151 - accuracy: 0.3059 - val_loss: 9.7253 - val_accuracy: 0.1356\n",
            "Epoch 35/50\n",
            "2002/2002 [==============================] - 17s 8ms/step - loss: 3.1951 - accuracy: 0.3065 - val_loss: 9.7017 - val_accuracy: 0.1389\n",
            "Epoch 36/50\n",
            "2002/2002 [==============================] - 17s 8ms/step - loss: 3.1750 - accuracy: 0.3096 - val_loss: 9.8292 - val_accuracy: 0.1405\n",
            "Epoch 37/50\n",
            "2002/2002 [==============================] - 19s 10ms/step - loss: 3.1564 - accuracy: 0.3120 - val_loss: 9.9286 - val_accuracy: 0.1388\n",
            "Epoch 38/50\n",
            "2002/2002 [==============================] - 17s 9ms/step - loss: 3.1470 - accuracy: 0.3140 - val_loss: 9.9228 - val_accuracy: 0.1400\n",
            "Epoch 39/50\n",
            "2002/2002 [==============================] - 18s 9ms/step - loss: 3.1457 - accuracy: 0.3157 - val_loss: 10.0398 - val_accuracy: 0.1390\n",
            "Epoch 40/50\n",
            "2002/2002 [==============================] - 17s 8ms/step - loss: 3.1552 - accuracy: 0.3141 - val_loss: 10.1312 - val_accuracy: 0.1358\n",
            "Epoch 41/50\n",
            "2002/2002 [==============================] - 19s 9ms/step - loss: 3.1385 - accuracy: 0.3161 - val_loss: 10.1679 - val_accuracy: 0.1400\n",
            "Epoch 42/50\n",
            "2002/2002 [==============================] - 17s 8ms/step - loss: 3.1654 - accuracy: 0.3137 - val_loss: 10.2544 - val_accuracy: 0.1395\n",
            "Epoch 43/50\n",
            "2002/2002 [==============================] - 17s 8ms/step - loss: 3.1608 - accuracy: 0.3169 - val_loss: 10.3454 - val_accuracy: 0.1383\n",
            "Epoch 44/50\n",
            "2002/2002 [==============================] - 17s 8ms/step - loss: 3.1726 - accuracy: 0.3152 - val_loss: 10.3396 - val_accuracy: 0.1410\n",
            "Epoch 45/50\n",
            "2002/2002 [==============================] - 19s 9ms/step - loss: 3.1749 - accuracy: 0.3171 - val_loss: 10.3718 - val_accuracy: 0.1420\n",
            "Epoch 46/50\n",
            "2002/2002 [==============================] - 17s 8ms/step - loss: 3.1953 - accuracy: 0.3138 - val_loss: 10.3925 - val_accuracy: 0.1329\n",
            "Epoch 47/50\n",
            "2002/2002 [==============================] - 17s 9ms/step - loss: 3.1547 - accuracy: 0.3177 - val_loss: 10.5159 - val_accuracy: 0.1338\n",
            "Epoch 48/50\n",
            "2002/2002 [==============================] - 17s 8ms/step - loss: 3.1567 - accuracy: 0.3173 - val_loss: 10.6452 - val_accuracy: 0.1391\n",
            "Epoch 49/50\n",
            "2002/2002 [==============================] - 18s 9ms/step - loss: 3.1732 - accuracy: 0.3167 - val_loss: 10.7024 - val_accuracy: 0.1355\n",
            "Epoch 50/50\n",
            "2002/2002 [==============================] - 17s 8ms/step - loss: 3.1789 - accuracy: 0.3172 - val_loss: 10.7042 - val_accuracy: 0.1391\n"
          ]
        }
      ],
      "source": [
        "# Define your model\n",
        "model = Sequential()\n",
        "model.add(Embedding(total_words, 100))\n",
        "model.add(Bidirectional(LSTM(150)))\n",
        "model.add(Dense(total_words, activation='softmax'))\n",
        "\n",
        "adam = Adam(learning_rate=0.01)\n",
        "model.compile(loss='categorical_crossentropy', optimizer=adam, metrics=['accuracy'])\n",
        "\n",
        "# Train the model\n",
        "history = model.fit(X_train_temp, y_train_temp, epochs=50, validation_data=(X_val, y_val), verbose=1)"
      ]
    },
    {
      "cell_type": "code",
      "source": [],
      "metadata": {
        "id": "VMNAdbC5ZdDb"
      },
      "execution_count": null,
      "outputs": []
    },
    {
      "cell_type": "markdown",
      "metadata": {
        "id": "LWo2AMy_VCxB"
      },
      "source": [
        "# Save Models (Weights and biases)"
      ]
    },
    {
      "cell_type": "code",
      "execution_count": 45,
      "metadata": {
        "execution": {
          "iopub.execute_input": "2024-04-11T07:17:23.074643Z",
          "iopub.status.busy": "2024-04-11T07:17:23.074319Z",
          "iopub.status.idle": "2024-04-11T07:17:23.216893Z",
          "shell.execute_reply": "2024-04-11T07:17:23.215911Z",
          "shell.execute_reply.started": "2024-04-11T07:17:23.074617Z"
        },
        "id": "poSxv_ASVCxB"
      },
      "outputs": [],
      "source": [
        "# # Save model architecture as JSON file\n",
        "from tensorflow.keras.models import model_from_json\n",
        "\n",
        "model_json = model.to_json()\n",
        "with open(\"lstm_model.json\", \"w\") as json_file:\n",
        "    json_file.write(model_json)"
      ]
    },
    {
      "cell_type": "code",
      "execution_count": 46,
      "metadata": {
        "id": "xTBAQYfBVCxB",
        "outputId": "0c3f8223-6c36-42f8-ede2-519c74b6057b",
        "colab": {
          "base_uri": "https://localhost:8080/"
        }
      },
      "outputs": [
        {
          "output_type": "stream",
          "name": "stdout",
          "text": [
            "Model architecture loaded successfully from JSON file.\n"
          ]
        }
      ],
      "source": [
        "# # Load model architecture from JSON file\n",
        "from tensorflow.keras.models import model_from_json\n",
        "\n",
        "with open(\"lstm_model.json\", \"r\") as json_file:\n",
        "    loaded_model_json = json_file.read()\n",
        "\n",
        "# Create model from loaded architecture\n",
        "loaded_model = model_from_json(loaded_model_json)\n",
        "\n",
        "print(\"Model architecture loaded successfully from JSON file.\")"
      ]
    },
    {
      "cell_type": "code",
      "execution_count": 40,
      "metadata": {
        "execution": {
          "iopub.execute_input": "2024-04-11T06:04:13.104775Z",
          "iopub.status.busy": "2024-04-11T06:04:13.104349Z",
          "iopub.status.idle": "2024-04-11T06:04:13.406339Z",
          "shell.execute_reply": "2024-04-11T06:04:13.404737Z",
          "shell.execute_reply.started": "2024-04-11T06:04:13.104743Z"
        },
        "id": "yekncZmQVCxB"
      },
      "outputs": [],
      "source": [
        "import matplotlib.pyplot as plt\n",
        "import seaborn as sns\n",
        "from sklearn.metrics import confusion_matrix\n"
      ]
    },
    {
      "cell_type": "code",
      "execution_count": 41,
      "metadata": {
        "execution": {
          "iopub.execute_input": "2024-04-11T06:04:14.332289Z",
          "iopub.status.busy": "2024-04-11T06:04:14.331600Z",
          "iopub.status.idle": "2024-04-11T06:04:15.028083Z",
          "shell.execute_reply": "2024-04-11T06:04:15.026976Z",
          "shell.execute_reply.started": "2024-04-11T06:04:14.332254Z"
        },
        "id": "plrHpi2FVCxB",
        "outputId": "546de2ae-21b7-4289-ac70-abc9ea9e5bcb",
        "colab": {
          "base_uri": "https://localhost:8080/",
          "height": 927
        }
      },
      "outputs": [
        {
          "output_type": "display_data",
          "data": {
            "text/plain": [
              "<Figure size 640x480 with 1 Axes>"
            ],
            "image/png": "[encoded data removed]"
          },
          "metadata": {}
        },
        {
          "output_type": "display_data",
          "data": {
            "text/plain": [
              "<Figure size 640x480 with 1 Axes>"
            ],
            "image/png": "[encoded data removed]"
          },
          "metadata": {}
        }
      ],
      "source": [
        "\n",
        "# Plot Loss\n",
        "plt.plot(history.history['loss'], label='Training Loss')\n",
        "plt.plot(history.history['val_loss'], label='Validation Loss')\n",
        "plt.title('Training and Validation Loss')\n",
        "plt.xlabel('Epochs')\n",
        "plt.ylabel('Loss')\n",
        "plt.legend()\n",
        "plt.show()\n",
        "\n",
        "# Plot Accuracy\n",
        "plt.plot(history.history['accuracy'], label='Training Accuracy')\n",
        "plt.plot(history.history['val_accuracy'], label='Validation Accuracy')\n",
        "plt.title('Training and Validation Accuracy')\n",
        "plt.xlabel('Epochs')\n",
        "plt.ylabel('Accuracy')\n",
        "plt.legend()\n",
        "plt.show()\n"
      ]
    },
    {
      "cell_type": "markdown",
      "metadata": {
        "id": "4SUkMKH1VCxC"
      },
      "source": [
        "# Inferences"
      ]
    },
    {
      "cell_type": "code",
      "execution_count": 42,
      "metadata": {
        "execution": {
          "iopub.execute_input": "2024-04-11T06:15:08.096062Z",
          "iopub.status.busy": "2024-04-11T06:15:08.095068Z",
          "iopub.status.idle": "2024-04-11T06:15:08.103261Z",
          "shell.execute_reply": "2024-04-11T06:15:08.102149Z",
          "shell.execute_reply.started": "2024-04-11T06:15:08.096025Z"
        },
        "id": "3Z4JyqrQVCxC"
      },
      "outputs": [],
      "source": [
        "def predict_top_five_words(model, tokenizer, seed_text):\n",
        "    token_list = tokenizer.texts_to_sequences([seed_text])[0]\n",
        "    token_list = pad_sequences([token_list], maxlen=max_sequence_len-1, padding='pre')\n",
        "    predicted = model.predict(token_list, verbose=0)\n",
        "    top_five_indexes = np.argsort(predicted[0])[::-1][:5]\n",
        "    top_five_words = []\n",
        "    for index in top_five_indexes:\n",
        "        for word, idx in tokenizer.word_index.items():\n",
        "            if idx == index:\n",
        "                top_five_words.append(word)\n",
        "                break\n",
        "    return top_five_words\n"
      ]
    },
    {
      "cell_type": "code",
      "execution_count": 65,
      "metadata": {
        "execution": {
          "iopub.execute_input": "2024-04-11T07:21:37.822914Z",
          "iopub.status.busy": "2024-04-11T07:21:37.822420Z",
          "iopub.status.idle": "2024-04-11T07:21:38.082054Z",
          "shell.execute_reply": "2024-04-11T07:21:38.080961Z",
          "shell.execute_reply.started": "2024-04-11T07:21:37.822880Z"
        },
        "id": "EmB16f5FVCxC"
      },
      "outputs": [],
      "source": [
        "from IPython.display import HTML\n",
        "\n",
        "def predict_top_five_words(model, tokenizer, seed_text):\n",
        "    token_list = tokenizer.texts_to_sequences([seed_text])[0]\n",
        "    token_list = pad_sequences([token_list], maxlen=max_sequence_len-1, padding='pre')\n",
        "    predicted = model.predict(token_list, verbose=0)\n",
        "    top_five_indexes = np.argsort(predicted[0])[::-1][:5]\n",
        "    top_five_words = []\n",
        "    for index in top_five_indexes:\n",
        "        for word, idx in tokenizer.word_index.items():\n",
        "            if idx == index:\n",
        "                top_five_words.append(word)\n",
        "                break\n",
        "    return top_five_words\n",
        "\n",
        "def predict_and_display_top_five_words(seed_text, model, tokenizer):\n",
        "    top_five_words = predict_top_five_words(model, tokenizer, seed_text)\n",
        "    # heading_app = f\"<h1>Sentence AutoCompletion App With Five Outputs</h1>\"\n",
        "    output_text = f\"<ul>{''.join([f'<li>{seed_text} {word}</li>' for word in top_five_words])}</ul>\"\n",
        "    # javascript_code = f\"\"\"\n",
        "    # <script>\n",
        "    #     var newWindow = window.open(\"\", \"_blank\");\n",
        "    #     newWindow.document.write('<html><head><title>Top Five Words</title></head><body>{heading_app} <br> <hr> {output_text}</body></html>');\n",
        "    # </script>\n",
        "    # \"\"\"\n",
        "    return '\\n'.join([f'{seed_text} {word}' for word in top_five_words])\n",
        "\n",
        "\n"
      ]
    },
    {
      "cell_type": "code",
      "execution_count": 66,
      "metadata": {
        "execution": {
          "iopub.execute_input": "2024-04-11T07:22:36.745099Z",
          "iopub.status.busy": "2024-04-11T07:22:36.744339Z",
          "iopub.status.idle": "2024-04-11T07:22:36.822230Z",
          "shell.execute_reply": "2024-04-11T07:22:36.821207Z",
          "shell.execute_reply.started": "2024-04-11T07:22:36.745061Z"
        },
        "id": "VuoxrXzSVCxC"
      },
      "outputs": [],
      "source": [
        "# Test the function\n",
        "seed_text = \"She is my\"\n",
        "res = predict_and_display_top_five_words(seed_text, loaded_model, tokenizer)"
      ]
    },
    {
      "cell_type": "code",
      "source": [
        "res"
      ],
      "metadata": {
        "id": "PpHlb4uvnx_S",
        "outputId": "bc6a7f95-7870-4bc1-fbb1-a3d2be131c81",
        "colab": {
          "base_uri": "https://localhost:8080/",
          "height": 36
        }
      },
      "execution_count": 67,
      "outputs": [
        {
          "output_type": "execute_result",
          "data": {
            "text/plain": [
              "'She is my places\\nShe is my plea\\nShe is my thereafter\\nShe is my retorted\\nShe is my tank'"
            ],
            "application/vnd.google.colaboratory.intrinsic+json": {
              "type": "string"
            }
          },
          "metadata": {},
          "execution_count": 67
        }
      ]
    },
    {
      "cell_type": "code",
      "source": [
        "from IPython.display import display, Markdown, Latex\n",
        "display(Markdown(res))"
      ],
      "metadata": {
        "id": "-tvYlYm5ozJc",
        "outputId": "e14ca325-7325-4aaa-b275-b75817403e10",
        "colab": {
          "base_uri": "https://localhost:8080/",
          "height": 46
        }
      },
      "execution_count": 68,
      "outputs": [
        {
          "output_type": "display_data",
          "data": {
            "text/plain": [
              "<IPython.core.display.Markdown object>"
            ],
            "text/markdown": "She is my places\nShe is my plea\nShe is my thereafter\nShe is my retorted\nShe is my tank"
          },
          "metadata": {}
        }
      ]
    },
    {
      "cell_type": "code",
      "source": [
        "import IPython"
      ],
      "metadata": {
        "id": "K_9TtvronlaC"
      },
      "execution_count": 58,
      "outputs": []
    },
    {
      "cell_type": "code",
      "source": [
        "IPython.display.HTML(res)"
      ],
      "metadata": {
        "id": "CFyE4roenDuU",
        "outputId": "b5b149eb-9909-4346-b56d-fe21b98c549c",
        "colab": {
          "base_uri": "https://localhost:8080/",
          "height": 17
        }
      },
      "execution_count": 59,
      "outputs": [
        {
          "output_type": "execute_result",
          "data": {
            "text/plain": [
              "<IPython.core.display.HTML object>"
            ],
            "text/html": [
              "\n",
              "    <script>\n",
              "        var newWindow = window.open(\"\", \"_blank\");\n",
              "        newWindow.document.write('<html><head><title>Top Five Words</title></head><body><h1>Sentence AutoCompletion App With Five Outputs</h1> <br> <hr> <ul><li>She is my places</li><li>She is my plea</li><li>She is my thereafter</li><li>She is my retorted</li><li>She is my tank</li></ul></body></html>');\n",
              "    </script>\n",
              "    "
            ]
          },
          "metadata": {},
          "execution_count": 59
        }
      ]
    },
    {
      "cell_type": "code",
      "execution_count": 48,
      "metadata": {
        "execution": {
          "iopub.execute_input": "2024-04-11T06:32:59.206205Z",
          "iopub.status.busy": "2024-04-11T06:32:59.205113Z",
          "iopub.status.idle": "2024-04-11T06:32:59.281620Z",
          "shell.execute_reply": "2024-04-11T06:32:59.280559Z",
          "shell.execute_reply.started": "2024-04-11T06:32:59.206146Z"
        },
        "id": "-I_JeUoJVCxD",
        "outputId": "04cd7d88-b5ed-4706-f2f4-6b165c3ea8c0",
        "colab": {
          "base_uri": "https://localhost:8080/",
          "height": 17
        }
      },
      "outputs": [
        {
          "output_type": "execute_result",
          "data": {
            "text/plain": [
              "<IPython.core.display.HTML object>"
            ],
            "text/html": [
              "\n",
              "    <script>\n",
              "        var newWindow = window.open(\"\", \"_blank\");\n",
              "        newWindow.document.write('<html><head><title>Top Five Words</title></head><body><h1>Sentence AutoCompletion App With Five Outputs</h1> <br> <hr> <ul><li>I have thereafter</li><li>I have jolted</li><li>I have brace</li><li>I have rarefied</li><li>I have places</li></ul></body></html>');\n",
              "    </script>\n",
              "    "
            ]
          },
          "metadata": {},
          "execution_count": 48
        }
      ],
      "source": [
        "# Test 2:\n",
        "# Test the function\n",
        "seed_text = \"I have\"\n",
        "predict_and_display_top_five_words(seed_text, loaded_model, tokenizer)"
      ]
    },
    {
      "cell_type": "code",
      "execution_count": null,
      "metadata": {
        "execution": {
          "iopub.execute_input": "2024-04-11T07:23:00.192909Z",
          "iopub.status.busy": "2024-04-11T07:23:00.192508Z",
          "iopub.status.idle": "2024-04-11T07:23:00.270331Z",
          "shell.execute_reply": "2024-04-11T07:23:00.269254Z",
          "shell.execute_reply.started": "2024-04-11T07:23:00.192880Z"
        },
        "id": "L8-0THgGVCxD",
        "outputId": "dff08b05-86f3-4d4c-85b2-731c621296ad"
      },
      "outputs": [
        {
          "data": {
            "text/html": [
              "\n",
              "    <script>\n",
              "        var newWindow = window.open(\"\", \"_blank\");\n",
              "        newWindow.document.write('<html><head><title>Top Five Words</title></head><body><h1>Sentence AutoCompletion App With Five Outputs</h1> <br> <hr> <ul><li>We love months</li><li>We love fashioned</li><li>We love seeing</li><li>We love power</li><li>We love wastepaper</li></ul></body></html>');\n",
              "    </script>\n",
              "    "
            ],
            "text/plain": [
              "<IPython.core.display.HTML object>"
            ]
          },
          "execution_count": 70,
          "metadata": {},
          "output_type": "execute_result"
        }
      ],
      "source": [
        "# Test 3:\n",
        "# Test the function\n",
        "seed_text = \"We love\"\n",
        "predict_and_display_top_five_words(seed_text, loaded_model, tokenizer)"
      ]
    },
    {
      "cell_type": "code",
      "execution_count": null,
      "metadata": {
        "execution": {
          "iopub.execute_input": "2024-04-11T06:33:58.775637Z",
          "iopub.status.busy": "2024-04-11T06:33:58.775231Z",
          "iopub.status.idle": "2024-04-11T06:33:58.849540Z",
          "shell.execute_reply": "2024-04-11T06:33:58.848492Z",
          "shell.execute_reply.started": "2024-04-11T06:33:58.775606Z"
        },
        "id": "Zj0diU2_VCxD",
        "outputId": "d03bed0e-6ae8-43fc-dcc6-380432bd96b2"
      },
      "outputs": [
        {
          "data": {
            "text/html": [
              "\n",
              "    <script>\n",
              "        var newWindow = window.open(\"\", \"_blank\");\n",
              "        newWindow.document.write('<html><head><title>Top Five Words</title></head><body><ul><li>How are up</li><li>How are terrible</li><li>How are you</li><li>How are not</li><li>How are at</li></ul></body></html>');\n",
              "    </script>\n",
              "    "
            ],
            "text/plain": [
              "<IPython.core.display.HTML object>"
            ]
          },
          "execution_count": 52,
          "metadata": {},
          "output_type": "execute_result"
        }
      ],
      "source": [
        "# Test 3:\n",
        "seed_text = \"How are\"\n",
        "predict_and_display_top_five_words(seed_text, loaded_model, tokenizer)"
      ]
    }
  ],
  "metadata": {
    "kaggle": {
      "accelerator": "gpu",
      "dataSources": [
        {
          "datasetId": 4758440,
          "sourceId": 8065627,
          "sourceType": "datasetVersion"
        },
        {
          "datasetId": 4758543,
          "sourceId": 8065761,
          "sourceType": "datasetVersion"
        },
        {
          "datasetId": 4759977,
          "sourceId": 8067728,
          "sourceType": "datasetVersion"
        }
      ],
      "dockerImageVersionId": 30674,
      "isGpuEnabled": true,
      "isInternetEnabled": true,
      "language": "python",
      "sourceType": "notebook"
    },
    "kernelspec": {
      "display_name": "Python 3",
      "name": "python3"
    },
    "language_info": {
      "codemirror_mode": {
        "name": "ipython",
        "version": 3
      },
      "file_extension": ".py",
      "mimetype": "text/x-python",
      "name": "python",
      "nbconvert_exporter": "python",
      "pygments_lexer": "ipython3",
      "version": "3.9.12"
    },
    "colab": {
      "provenance": [],
      "gpuType": "T4"
    },
    "accelerator": "GPU"
  },
  "nbformat": 4,
  "nbformat_minor": 0
}